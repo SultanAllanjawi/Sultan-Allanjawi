{
  "nbformat": 4,
  "nbformat_minor": 0,
  "metadata": {
    "colab": {
      "provenance": []
    },
    "kernelspec": {
      "name": "python3",
      "display_name": "Python 3"
    },
    "language_info": {
      "name": "python"
    }
  },
  "cells": [
    {
      "cell_type": "code",
      "execution_count": 1,
      "metadata": {
        "colab": {
          "base_uri": "https://localhost:8080/"
        },
        "id": "w27m6oUQUc9k",
        "outputId": "ee60923e-696c-496a-c70e-6822a1963454"
      },
      "outputs": [
        {
          "output_type": "stream",
          "name": "stdout",
          "text": [
            "Order DEL123456789 Created for Name: Sultan Allanjawi, Contact: sultan.allanjawi@gmail.com, Address: Al khwaneej 1, Dubai\n",
            "Delivery Note DN-2025-001 generated for Order Order DEL123456789 Created for Name: Sultan Allanjawi, Contact: sultan.allanjawi@gmail.com, Address: Al khwaneej 1, Dubai\n"
          ]
        }
      ],
      "source": [
        "\n",
        "class Recipient:\n",
        "   \"\"\"\n",
        "   The Recipient class stores customer details such as name, contact, and address.\n",
        "   It provides methods to retrieve and update recipient information.\n",
        "   \"\"\"\n",
        "   def __init__(self, name, contact, address):\n",
        "       self.__name = name  # Private attribute for recipient name\n",
        "       self.__contact = contact  # Private attribute for recipient contact\n",
        "       self.__address = address  # Private attribute for recipient address\n",
        "   def get_details(self):\n",
        "       return f\"Name: {self.__name}, Contact: {self.__contact}, Address: {self.__address}\"\n",
        "   def update_info(self, name, contact, address):\n",
        "       self.__name = name\n",
        "       self.__contact = contact\n",
        "       self.__address = address\n",
        "   # Setter and getters\n",
        "   def get_name(self):\n",
        "       return self.__name\n",
        "   def set_name(self, name):\n",
        "       self.__name = name\n",
        "   def get_contact(self):\n",
        "       return self.__contact\n",
        "   def set_contact(self, contact):\n",
        "       self.__contact = contact\n",
        "   def get_address(self):\n",
        "       return self.__address\n",
        "   def set_address(self, address):\n",
        "       self.__address = address\n",
        "class Package:\n",
        "   \"\"\"\n",
        "   The Package class stores package details such as package ID, dimensions, and weight.\n",
        "   It provides methods to retrieve package details.\n",
        "   \"\"\"\n",
        "   def __init__(self, package_id, dimensions, weight):\n",
        "       self.__package_id = package_id\n",
        "       self.__dimensions = dimensions\n",
        "       self.__weight = weight\n",
        "   def get_package_details(self):\n",
        "       return f\"Package ID: {self.__package_id}, Dimensions: {self.__dimensions}, Weight: {self.__weight}kg\"\n",
        "class DeliveryOrder:\n",
        "   \"\"\"\n",
        "   The DeliveryOrder class represents a delivery order, linking a recipient to a package.\n",
        "   It includes order ID, delivery status, and methods for creating and updating an order.\n",
        "   \"\"\"\n",
        "   def __init__(self, order_id, recipient, package, status=\"Pending\"):\n",
        "       self.__order_id = order_id  # Private order ID\n",
        "       self.__recipient = recipient  # Private Recipient object\n",
        "       self.__package = package  # Private Package object\n",
        "       self.__status = status  # Private status of delivery (e.g., \"Pending\", \"Delivered\")\n",
        "   def create_order(self):\n",
        "       return f\"Order {self.__order_id} Created for {self.__recipient.get_details()}\"\n",
        "   def update_status(self, status):\n",
        "       self.__status = status\n",
        "class DeliveryNote:\n",
        "   \"\"\"\n",
        "   The DeliveryNote class generates a delivery note for a specific order.\n",
        "   It includes the note ID, associated order, and the date the note was issued.\n",
        "   \"\"\"\n",
        "   def __init__(self, note_id, order, date_issued):\n",
        "       self.__note_id = note_id  # Private note ID\n",
        "       self.__order = order  # Private DeliveryOrder object linked to the note\n",
        "       self.__date_issued = date_issued  # Private date of issuance\n",
        "   def generate_note(self):\n",
        "       return f\"Delivery Note {self.__note_id} generated for Order {self.__order.create_order()}\"\n",
        "# Example Usage (Creating and Displaying Order Information)\n",
        "recipient = Recipient(\"Sultan Allanjawi\", \"sultan.allanjawi@gmail.com\", \"Al khwaneej 1, Dubai\")\n",
        "package = Package(\"PKG123\", \"30x20x10 cm\", 7)\n",
        "order = DeliveryOrder(\"DEL123456789\", recipient, package)\n",
        "delivery_note = DeliveryNote(\"DN-2025-001\", order, \"2025-03-01\")\n",
        "print(order.create_order())  # Creates a new order\n",
        "print(delivery_note.generate_note())  # Generates a delivery note for the order\n"
      ]
    }
  ]
}